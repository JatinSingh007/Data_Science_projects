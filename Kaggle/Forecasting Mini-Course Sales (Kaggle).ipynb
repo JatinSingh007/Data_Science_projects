{
 "cells": [
  {
   "cell_type": "code",
   "execution_count": 365,
   "id": "389a7415",
   "metadata": {},
   "outputs": [],
   "source": [
    "import numpy as np\n",
    "import pandas as pd\n",
    "import tensorflow as tf\n",
    "from tensorflow import keras\n",
    "from sklearn.model_selection import train_test_split, RandomizedSearchCV, GridSearchCV\n",
    "from sklearn.preprocessing import OneHotEncoder\n",
    "from sklearn.linear_model import LinearRegression\n",
    "from sklearn.ensemble import RandomForestRegressor, GradientBoostingRegressor\n",
    "from sklearn.metrics import mean_squared_error\n",
    "from xgboost import XGBRegressor\n",
    "\n"
   ]
  },
  {
   "cell_type": "markdown",
   "id": "6ccb7787",
   "metadata": {},
   "source": [
    "IMPORTING THE DATASET\n"
   ]
  },
  {
   "cell_type": "code",
   "execution_count": 366,
   "id": "6b376f46",
   "metadata": {
    "scrolled": true
   },
   "outputs": [
    {
     "data": {
      "text/html": [
       "<div>\n",
       "<style scoped>\n",
       "    .dataframe tbody tr th:only-of-type {\n",
       "        vertical-align: middle;\n",
       "    }\n",
       "\n",
       "    .dataframe tbody tr th {\n",
       "        vertical-align: top;\n",
       "    }\n",
       "\n",
       "    .dataframe thead th {\n",
       "        text-align: right;\n",
       "    }\n",
       "</style>\n",
       "<table border=\"1\" class=\"dataframe\">\n",
       "  <thead>\n",
       "    <tr style=\"text-align: right;\">\n",
       "      <th></th>\n",
       "      <th>id</th>\n",
       "      <th>date</th>\n",
       "      <th>country</th>\n",
       "      <th>store</th>\n",
       "      <th>product</th>\n",
       "      <th>num_sold</th>\n",
       "    </tr>\n",
       "  </thead>\n",
       "  <tbody>\n",
       "    <tr>\n",
       "      <th>0</th>\n",
       "      <td>0</td>\n",
       "      <td>2017-01-01</td>\n",
       "      <td>Argentina</td>\n",
       "      <td>Kaggle Learn</td>\n",
       "      <td>Using LLMs to Improve Your Coding</td>\n",
       "      <td>63</td>\n",
       "    </tr>\n",
       "    <tr>\n",
       "      <th>1</th>\n",
       "      <td>1</td>\n",
       "      <td>2017-01-01</td>\n",
       "      <td>Argentina</td>\n",
       "      <td>Kaggle Learn</td>\n",
       "      <td>Using LLMs to Train More LLMs</td>\n",
       "      <td>66</td>\n",
       "    </tr>\n",
       "    <tr>\n",
       "      <th>2</th>\n",
       "      <td>2</td>\n",
       "      <td>2017-01-01</td>\n",
       "      <td>Argentina</td>\n",
       "      <td>Kaggle Learn</td>\n",
       "      <td>Using LLMs to Win Friends and Influence People</td>\n",
       "      <td>9</td>\n",
       "    </tr>\n",
       "    <tr>\n",
       "      <th>3</th>\n",
       "      <td>3</td>\n",
       "      <td>2017-01-01</td>\n",
       "      <td>Argentina</td>\n",
       "      <td>Kaggle Learn</td>\n",
       "      <td>Using LLMs to Win More Kaggle Competitions</td>\n",
       "      <td>59</td>\n",
       "    </tr>\n",
       "    <tr>\n",
       "      <th>4</th>\n",
       "      <td>4</td>\n",
       "      <td>2017-01-01</td>\n",
       "      <td>Argentina</td>\n",
       "      <td>Kaggle Learn</td>\n",
       "      <td>Using LLMs to Write Better</td>\n",
       "      <td>49</td>\n",
       "    </tr>\n",
       "    <tr>\n",
       "      <th>...</th>\n",
       "      <td>...</td>\n",
       "      <td>...</td>\n",
       "      <td>...</td>\n",
       "      <td>...</td>\n",
       "      <td>...</td>\n",
       "      <td>...</td>\n",
       "    </tr>\n",
       "    <tr>\n",
       "      <th>136945</th>\n",
       "      <td>136945</td>\n",
       "      <td>2021-12-31</td>\n",
       "      <td>Spain</td>\n",
       "      <td>Kagglazon</td>\n",
       "      <td>Using LLMs to Improve Your Coding</td>\n",
       "      <td>700</td>\n",
       "    </tr>\n",
       "    <tr>\n",
       "      <th>136946</th>\n",
       "      <td>136946</td>\n",
       "      <td>2021-12-31</td>\n",
       "      <td>Spain</td>\n",
       "      <td>Kagglazon</td>\n",
       "      <td>Using LLMs to Train More LLMs</td>\n",
       "      <td>752</td>\n",
       "    </tr>\n",
       "    <tr>\n",
       "      <th>136947</th>\n",
       "      <td>136947</td>\n",
       "      <td>2021-12-31</td>\n",
       "      <td>Spain</td>\n",
       "      <td>Kagglazon</td>\n",
       "      <td>Using LLMs to Win Friends and Influence People</td>\n",
       "      <td>111</td>\n",
       "    </tr>\n",
       "    <tr>\n",
       "      <th>136948</th>\n",
       "      <td>136948</td>\n",
       "      <td>2021-12-31</td>\n",
       "      <td>Spain</td>\n",
       "      <td>Kagglazon</td>\n",
       "      <td>Using LLMs to Win More Kaggle Competitions</td>\n",
       "      <td>641</td>\n",
       "    </tr>\n",
       "    <tr>\n",
       "      <th>136949</th>\n",
       "      <td>136949</td>\n",
       "      <td>2021-12-31</td>\n",
       "      <td>Spain</td>\n",
       "      <td>Kagglazon</td>\n",
       "      <td>Using LLMs to Write Better</td>\n",
       "      <td>539</td>\n",
       "    </tr>\n",
       "  </tbody>\n",
       "</table>\n",
       "<p>136950 rows × 6 columns</p>\n",
       "</div>"
      ],
      "text/plain": [
       "            id        date    country         store  \\\n",
       "0            0  2017-01-01  Argentina  Kaggle Learn   \n",
       "1            1  2017-01-01  Argentina  Kaggle Learn   \n",
       "2            2  2017-01-01  Argentina  Kaggle Learn   \n",
       "3            3  2017-01-01  Argentina  Kaggle Learn   \n",
       "4            4  2017-01-01  Argentina  Kaggle Learn   \n",
       "...        ...         ...        ...           ...   \n",
       "136945  136945  2021-12-31      Spain     Kagglazon   \n",
       "136946  136946  2021-12-31      Spain     Kagglazon   \n",
       "136947  136947  2021-12-31      Spain     Kagglazon   \n",
       "136948  136948  2021-12-31      Spain     Kagglazon   \n",
       "136949  136949  2021-12-31      Spain     Kagglazon   \n",
       "\n",
       "                                               product  num_sold  \n",
       "0                    Using LLMs to Improve Your Coding        63  \n",
       "1                        Using LLMs to Train More LLMs        66  \n",
       "2       Using LLMs to Win Friends and Influence People         9  \n",
       "3           Using LLMs to Win More Kaggle Competitions        59  \n",
       "4                           Using LLMs to Write Better        49  \n",
       "...                                                ...       ...  \n",
       "136945               Using LLMs to Improve Your Coding       700  \n",
       "136946                   Using LLMs to Train More LLMs       752  \n",
       "136947  Using LLMs to Win Friends and Influence People       111  \n",
       "136948      Using LLMs to Win More Kaggle Competitions       641  \n",
       "136949                      Using LLMs to Write Better       539  \n",
       "\n",
       "[136950 rows x 6 columns]"
      ]
     },
     "execution_count": 366,
     "metadata": {},
     "output_type": "execute_result"
    }
   ],
   "source": [
    "train_df = pd.read_csv('train1.csv')\n",
    "test_df = pd.read_csv('test.csv')\n",
    "train_df"
   ]
  },
  {
   "cell_type": "markdown",
   "id": "04be6e6e",
   "metadata": {},
   "source": [
    "OVERVIEW OF THE DATASET"
   ]
  },
  {
   "cell_type": "code",
   "execution_count": 367,
   "id": "5a3a21b2",
   "metadata": {},
   "outputs": [
    {
     "data": {
      "text/html": [
       "<div>\n",
       "<style scoped>\n",
       "    .dataframe tbody tr th:only-of-type {\n",
       "        vertical-align: middle;\n",
       "    }\n",
       "\n",
       "    .dataframe tbody tr th {\n",
       "        vertical-align: top;\n",
       "    }\n",
       "\n",
       "    .dataframe thead th {\n",
       "        text-align: right;\n",
       "    }\n",
       "</style>\n",
       "<table border=\"1\" class=\"dataframe\">\n",
       "  <thead>\n",
       "    <tr style=\"text-align: right;\">\n",
       "      <th></th>\n",
       "      <th>columns</th>\n",
       "      <th>DataType</th>\n",
       "      <th>MissingValues</th>\n",
       "      <th>UniqueValues</th>\n",
       "    </tr>\n",
       "  </thead>\n",
       "  <tbody>\n",
       "    <tr>\n",
       "      <th>0</th>\n",
       "      <td>id</td>\n",
       "      <td>int64</td>\n",
       "      <td>0</td>\n",
       "      <td>136950</td>\n",
       "    </tr>\n",
       "    <tr>\n",
       "      <th>1</th>\n",
       "      <td>date</td>\n",
       "      <td>object</td>\n",
       "      <td>0</td>\n",
       "      <td>1826</td>\n",
       "    </tr>\n",
       "    <tr>\n",
       "      <th>2</th>\n",
       "      <td>country</td>\n",
       "      <td>object</td>\n",
       "      <td>0</td>\n",
       "      <td>5</td>\n",
       "    </tr>\n",
       "    <tr>\n",
       "      <th>3</th>\n",
       "      <td>store</td>\n",
       "      <td>object</td>\n",
       "      <td>0</td>\n",
       "      <td>3</td>\n",
       "    </tr>\n",
       "    <tr>\n",
       "      <th>4</th>\n",
       "      <td>product</td>\n",
       "      <td>object</td>\n",
       "      <td>0</td>\n",
       "      <td>5</td>\n",
       "    </tr>\n",
       "    <tr>\n",
       "      <th>5</th>\n",
       "      <td>num_sold</td>\n",
       "      <td>int64</td>\n",
       "      <td>0</td>\n",
       "      <td>1028</td>\n",
       "    </tr>\n",
       "  </tbody>\n",
       "</table>\n",
       "</div>"
      ],
      "text/plain": [
       "    columns DataType  MissingValues  UniqueValues\n",
       "0        id    int64              0        136950\n",
       "1      date   object              0          1826\n",
       "2   country   object              0             5\n",
       "3     store   object              0             3\n",
       "4   product   object              0             5\n",
       "5  num_sold    int64              0          1028"
      ]
     },
     "execution_count": 367,
     "metadata": {},
     "output_type": "execute_result"
    }
   ],
   "source": [
    "overview = pd.DataFrame()\n",
    "overview['columns'] = train_df.columns\n",
    "overview['DataType'] = train_df.dtypes.values\n",
    "overview['MissingValues'] = train_df.isnull().sum().values\n",
    "overview['UniqueValues'] = train_df.nunique().values\n",
    "overview"
   ]
  },
  {
   "cell_type": "markdown",
   "id": "1c3baf02",
   "metadata": {},
   "source": [
    "SALES DISTRIBUTION"
   ]
  },
  {
   "cell_type": "code",
   "execution_count": 368,
   "id": "a9378f02",
   "metadata": {},
   "outputs": [
    {
     "data": {
      "image/png": "[encoded data removed]",
      "text/plain": [
       "<Figure size 1152x432 with 1 Axes>"
      ]
     },
     "metadata": {
      "needs_background": "light"
     },
     "output_type": "display_data"
    }
   ],
   "source": [
    "plt.figure(figsize = (16,6))\n",
    "sns.histplot(train_df['num_sold'], bins = 50 ,kde = True, color = 'skyblue')\n",
    "plt.title('Distribution of sales')\n",
    "plt.show()\n"
   ]
  },
  {
   "cell_type": "markdown",
   "id": "2c209c45",
   "metadata": {},
   "source": [
    "TIMESERIES PLOT FOR SALES"
   ]
  },
  {
   "cell_type": "code",
   "execution_count": 369,
   "id": "4b6de335",
   "metadata": {},
   "outputs": [
    {
     "data": {
      "image/png": "[encoded data removed]",
      "text/plain": [
       "<Figure size 1152x432 with 1 Axes>"
      ]
     },
     "metadata": {
      "needs_background": "light"
     },
     "output_type": "display_data"
    }
   ],
   "source": [
    "train_df['date'] = pd.to_datetime(train_df['date'])\n",
    "test_df['date'] = pd.to_datetime(test_df['date'])\n",
    "plt.figure(figsize = (16,6))\n",
    "sns.lineplot(x = 'date', y = 'num_sold', data = train_df, ci = None, color = 'dodgerblue')\n",
    "plt.title('Sales over Time')\n",
    "plt.show()"
   ]
  },
  {
   "cell_type": "markdown",
   "id": "b15b1be7",
   "metadata": {},
   "source": [
    "SALES BY COUNTRY"
   ]
  },
  {
   "cell_type": "code",
   "execution_count": 370,
   "id": "c9f90063",
   "metadata": {},
   "outputs": [
    {
     "data": {
      "image/png": "[encoded data removed]",
      "text/plain": [
       "<Figure size 1152x432 with 1 Axes>"
      ]
     },
     "metadata": {
      "needs_background": "light"
     },
     "output_type": "display_data"
    }
   ],
   "source": [
    "plt.figure(figsize = (16,6))\n",
    "sns.boxplot(x = 'country', y = 'num_sold', data = train_df,palette = 'pastel')\n",
    "plt.title('Sales Vs Country')\n",
    "plt.xticks(rotation = 45)\n",
    "plt.show()"
   ]
  },
  {
   "cell_type": "markdown",
   "id": "30eef079",
   "metadata": {},
   "source": [
    "SALES BY STORE"
   ]
  },
  {
   "cell_type": "code",
   "execution_count": 371,
   "id": "1add0a36",
   "metadata": {},
   "outputs": [
    {
     "data": {
      "image/png": "[encoded data removed]",
      "text/plain": [
       "<Figure size 1152x432 with 1 Axes>"
      ]
     },
     "metadata": {
      "needs_background": "light"
     },
     "output_type": "display_data"
    }
   ],
   "source": [
    "plt.figure(figsize = (16,6))\n",
    "sns.boxplot(x = 'store', y = 'num_sold', data = train_df,palette = 'pastel')\n",
    "plt.title('Sales Vs Store')\n",
    "plt.xticks(rotation = 45)\n",
    "plt.show()"
   ]
  },
  {
   "cell_type": "markdown",
   "id": "faceee1d",
   "metadata": {},
   "source": [
    "EXTRACTION OF YEAR/MONTH/DAY"
   ]
  },
  {
   "cell_type": "code",
   "execution_count": 372,
   "id": "ad62b2d8",
   "metadata": {},
   "outputs": [
    {
     "data": {
      "text/html": [
       "<div>\n",
       "<style scoped>\n",
       "    .dataframe tbody tr th:only-of-type {\n",
       "        vertical-align: middle;\n",
       "    }\n",
       "\n",
       "    .dataframe tbody tr th {\n",
       "        vertical-align: top;\n",
       "    }\n",
       "\n",
       "    .dataframe thead th {\n",
       "        text-align: right;\n",
       "    }\n",
       "</style>\n",
       "<table border=\"1\" class=\"dataframe\">\n",
       "  <thead>\n",
       "    <tr style=\"text-align: right;\">\n",
       "      <th></th>\n",
       "      <th>id</th>\n",
       "      <th>country</th>\n",
       "      <th>store</th>\n",
       "      <th>product</th>\n",
       "      <th>num_sold</th>\n",
       "      <th>year</th>\n",
       "      <th>month</th>\n",
       "      <th>day_of_week</th>\n",
       "    </tr>\n",
       "  </thead>\n",
       "  <tbody>\n",
       "    <tr>\n",
       "      <th>0</th>\n",
       "      <td>0</td>\n",
       "      <td>Argentina</td>\n",
       "      <td>Kaggle Learn</td>\n",
       "      <td>Using LLMs to Improve Your Coding</td>\n",
       "      <td>63</td>\n",
       "      <td>2017</td>\n",
       "      <td>1</td>\n",
       "      <td>6</td>\n",
       "    </tr>\n",
       "    <tr>\n",
       "      <th>1</th>\n",
       "      <td>1</td>\n",
       "      <td>Argentina</td>\n",
       "      <td>Kaggle Learn</td>\n",
       "      <td>Using LLMs to Train More LLMs</td>\n",
       "      <td>66</td>\n",
       "      <td>2017</td>\n",
       "      <td>1</td>\n",
       "      <td>6</td>\n",
       "    </tr>\n",
       "    <tr>\n",
       "      <th>2</th>\n",
       "      <td>2</td>\n",
       "      <td>Argentina</td>\n",
       "      <td>Kaggle Learn</td>\n",
       "      <td>Using LLMs to Win Friends and Influence People</td>\n",
       "      <td>9</td>\n",
       "      <td>2017</td>\n",
       "      <td>1</td>\n",
       "      <td>6</td>\n",
       "    </tr>\n",
       "    <tr>\n",
       "      <th>3</th>\n",
       "      <td>3</td>\n",
       "      <td>Argentina</td>\n",
       "      <td>Kaggle Learn</td>\n",
       "      <td>Using LLMs to Win More Kaggle Competitions</td>\n",
       "      <td>59</td>\n",
       "      <td>2017</td>\n",
       "      <td>1</td>\n",
       "      <td>6</td>\n",
       "    </tr>\n",
       "    <tr>\n",
       "      <th>4</th>\n",
       "      <td>4</td>\n",
       "      <td>Argentina</td>\n",
       "      <td>Kaggle Learn</td>\n",
       "      <td>Using LLMs to Write Better</td>\n",
       "      <td>49</td>\n",
       "      <td>2017</td>\n",
       "      <td>1</td>\n",
       "      <td>6</td>\n",
       "    </tr>\n",
       "  </tbody>\n",
       "</table>\n",
       "</div>"
      ],
      "text/plain": [
       "   id    country         store  \\\n",
       "0   0  Argentina  Kaggle Learn   \n",
       "1   1  Argentina  Kaggle Learn   \n",
       "2   2  Argentina  Kaggle Learn   \n",
       "3   3  Argentina  Kaggle Learn   \n",
       "4   4  Argentina  Kaggle Learn   \n",
       "\n",
       "                                          product  num_sold  year  month  \\\n",
       "0               Using LLMs to Improve Your Coding        63  2017      1   \n",
       "1                   Using LLMs to Train More LLMs        66  2017      1   \n",
       "2  Using LLMs to Win Friends and Influence People         9  2017      1   \n",
       "3      Using LLMs to Win More Kaggle Competitions        59  2017      1   \n",
       "4                      Using LLMs to Write Better        49  2017      1   \n",
       "\n",
       "   day_of_week  \n",
       "0            6  \n",
       "1            6  \n",
       "2            6  \n",
       "3            6  \n",
       "4            6  "
      ]
     },
     "execution_count": 372,
     "metadata": {},
     "output_type": "execute_result"
    }
   ],
   "source": [
    "train_df['year'] = train_df['date'].dt.year\n",
    "train_df['month'] = train_df['date'].dt.month\n",
    "train_df['day_of_week'] = train_df['date'].dt.dayofweek\n",
    "\n",
    "test_df['year'] = test_df['date'].dt.year\n",
    "test_df['month'] = test_df['date'].dt.month\n",
    "test_df['day_of_week'] = test_df['date'].dt.dayofweek\n",
    "\n",
    "\n",
    "train_df = train_df.drop(columns = ['date'])\n",
    "test_df = test_df.drop(columns = ['date'])\n",
    "\n",
    "train_df.head(5)"
   ]
  },
  {
   "cell_type": "markdown",
   "id": "d5a2ea21",
   "metadata": {},
   "source": [
    "ONE HOT ENCODING"
   ]
  },
  {
   "cell_type": "code",
   "execution_count": 360,
   "id": "5be87e32",
   "metadata": {},
   "outputs": [
    {
     "data": {
      "text/html": [
       "<div>\n",
       "<style scoped>\n",
       "    .dataframe tbody tr th:only-of-type {\n",
       "        vertical-align: middle;\n",
       "    }\n",
       "\n",
       "    .dataframe tbody tr th {\n",
       "        vertical-align: top;\n",
       "    }\n",
       "\n",
       "    .dataframe thead th {\n",
       "        text-align: right;\n",
       "    }\n",
       "</style>\n",
       "<table border=\"1\" class=\"dataframe\">\n",
       "  <thead>\n",
       "    <tr style=\"text-align: right;\">\n",
       "      <th></th>\n",
       "      <th>id</th>\n",
       "      <th>year</th>\n",
       "      <th>month</th>\n",
       "      <th>day_of_week</th>\n",
       "      <th>country_Canada</th>\n",
       "      <th>country_Estonia</th>\n",
       "      <th>country_Japan</th>\n",
       "      <th>country_Spain</th>\n",
       "      <th>store_Kaggle Learn</th>\n",
       "      <th>store_Kaggle Store</th>\n",
       "      <th>product_Using LLMs to Train More LLMs</th>\n",
       "      <th>product_Using LLMs to Win Friends and Influence People</th>\n",
       "      <th>product_Using LLMs to Win More Kaggle Competitions</th>\n",
       "      <th>product_Using LLMs to Write Better</th>\n",
       "      <th>num_sold</th>\n",
       "    </tr>\n",
       "  </thead>\n",
       "  <tbody>\n",
       "    <tr>\n",
       "      <th>0</th>\n",
       "      <td>136950</td>\n",
       "      <td>2022</td>\n",
       "      <td>1</td>\n",
       "      <td>5</td>\n",
       "      <td>0</td>\n",
       "      <td>0</td>\n",
       "      <td>0</td>\n",
       "      <td>0</td>\n",
       "      <td>1</td>\n",
       "      <td>0</td>\n",
       "      <td>0</td>\n",
       "      <td>0</td>\n",
       "      <td>0</td>\n",
       "      <td>0</td>\n",
       "      <td>0</td>\n",
       "    </tr>\n",
       "    <tr>\n",
       "      <th>1</th>\n",
       "      <td>136951</td>\n",
       "      <td>2022</td>\n",
       "      <td>1</td>\n",
       "      <td>5</td>\n",
       "      <td>0</td>\n",
       "      <td>0</td>\n",
       "      <td>0</td>\n",
       "      <td>0</td>\n",
       "      <td>1</td>\n",
       "      <td>0</td>\n",
       "      <td>1</td>\n",
       "      <td>0</td>\n",
       "      <td>0</td>\n",
       "      <td>0</td>\n",
       "      <td>0</td>\n",
       "    </tr>\n",
       "    <tr>\n",
       "      <th>2</th>\n",
       "      <td>136952</td>\n",
       "      <td>2022</td>\n",
       "      <td>1</td>\n",
       "      <td>5</td>\n",
       "      <td>0</td>\n",
       "      <td>0</td>\n",
       "      <td>0</td>\n",
       "      <td>0</td>\n",
       "      <td>1</td>\n",
       "      <td>0</td>\n",
       "      <td>0</td>\n",
       "      <td>1</td>\n",
       "      <td>0</td>\n",
       "      <td>0</td>\n",
       "      <td>0</td>\n",
       "    </tr>\n",
       "    <tr>\n",
       "      <th>3</th>\n",
       "      <td>136953</td>\n",
       "      <td>2022</td>\n",
       "      <td>1</td>\n",
       "      <td>5</td>\n",
       "      <td>0</td>\n",
       "      <td>0</td>\n",
       "      <td>0</td>\n",
       "      <td>0</td>\n",
       "      <td>1</td>\n",
       "      <td>0</td>\n",
       "      <td>0</td>\n",
       "      <td>0</td>\n",
       "      <td>1</td>\n",
       "      <td>0</td>\n",
       "      <td>0</td>\n",
       "    </tr>\n",
       "    <tr>\n",
       "      <th>4</th>\n",
       "      <td>136954</td>\n",
       "      <td>2022</td>\n",
       "      <td>1</td>\n",
       "      <td>5</td>\n",
       "      <td>0</td>\n",
       "      <td>0</td>\n",
       "      <td>0</td>\n",
       "      <td>0</td>\n",
       "      <td>1</td>\n",
       "      <td>0</td>\n",
       "      <td>0</td>\n",
       "      <td>0</td>\n",
       "      <td>0</td>\n",
       "      <td>1</td>\n",
       "      <td>0</td>\n",
       "    </tr>\n",
       "  </tbody>\n",
       "</table>\n",
       "</div>"
      ],
      "text/plain": [
       "       id  year  month  day_of_week  country_Canada  country_Estonia  \\\n",
       "0  136950  2022      1            5               0                0   \n",
       "1  136951  2022      1            5               0                0   \n",
       "2  136952  2022      1            5               0                0   \n",
       "3  136953  2022      1            5               0                0   \n",
       "4  136954  2022      1            5               0                0   \n",
       "\n",
       "   country_Japan  country_Spain  store_Kaggle Learn  store_Kaggle Store  \\\n",
       "0              0              0                   1                   0   \n",
       "1              0              0                   1                   0   \n",
       "2              0              0                   1                   0   \n",
       "3              0              0                   1                   0   \n",
       "4              0              0                   1                   0   \n",
       "\n",
       "   product_Using LLMs to Train More LLMs  \\\n",
       "0                                      0   \n",
       "1                                      1   \n",
       "2                                      0   \n",
       "3                                      0   \n",
       "4                                      0   \n",
       "\n",
       "   product_Using LLMs to Win Friends and Influence People  \\\n",
       "0                                                  0        \n",
       "1                                                  0        \n",
       "2                                                  1        \n",
       "3                                                  0        \n",
       "4                                                  0        \n",
       "\n",
       "   product_Using LLMs to Win More Kaggle Competitions  \\\n",
       "0                                                  0    \n",
       "1                                                  0    \n",
       "2                                                  0    \n",
       "3                                                  1    \n",
       "4                                                  0    \n",
       "\n",
       "   product_Using LLMs to Write Better  num_sold  \n",
       "0                                   0         0  \n",
       "1                                   0         0  \n",
       "2                                   0         0  \n",
       "3                                   0         0  \n",
       "4                                   1         0  "
      ]
     },
     "execution_count": 360,
     "metadata": {},
     "output_type": "execute_result"
    }
   ],
   "source": [
    "train_encoded = pd.get_dummies(train_df, columns=['country','store','product'],drop_first = True)\n",
    "\n",
    "test_encoded = pd.get_dummies(test_df, columns=['country','store','product'],drop_first = True)\n",
    "\n",
    "# Ensure Train and Test Data Have same set of features\n",
    "\n",
    "column_set = set(train_encoded.columns) - set(test_encoded.columns)\n",
    "\n",
    "for c in column_set:\n",
    "    test_encoded[c] = 0\n",
    "    \n",
    "\n",
    "\n",
    "test_encoded.head(5)\n",
    "\n",
    "\n",
    "    "
   ]
  },
  {
   "cell_type": "markdown",
   "id": "25f85da4",
   "metadata": {},
   "source": [
    "SPLITTING THE DATA INTO TRAIN AND TEST"
   ]
  },
  {
   "cell_type": "code",
   "execution_count": 288,
   "id": "b7dbbda5",
   "metadata": {},
   "outputs": [
    {
     "data": {
      "text/plain": [
       "((109560, 13), (27390, 13))"
      ]
     },
     "execution_count": 288,
     "metadata": {},
     "output_type": "execute_result"
    }
   ],
   "source": [
    "X = train_encoded.drop(columns = ['id', 'num_sold'])\n",
    "y = train_encoded['num_sold']\n",
    "X_train, X_val, y_train, y_val = train_test_split(X, y ,test_size = 0.2, random_state = 42)\n",
    "\n",
    "X_train.shape, X_val.shape"
   ]
  },
  {
   "cell_type": "markdown",
   "id": "dd5386f2",
   "metadata": {},
   "source": [
    "Initializing Models"
   ]
  },
  {
   "cell_type": "code",
   "execution_count": 295,
   "id": "eaa48e75",
   "metadata": {},
   "outputs": [
    {
     "data": {
      "text/plain": [
       "{'Linear Regression': 91.41683057504346,\n",
       " 'Random Forest': 23.378404417170028,\n",
       " 'Gradient Boosting': 53.1541001653746,\n",
       " 'XGboost': 21.276000786755542}"
      ]
     },
     "execution_count": 295,
     "metadata": {},
     "output_type": "execute_result"
    }
   ],
   "source": [
    "models = {\n",
    "    'Linear Regression' : LinearRegression(),\n",
    "    'Random Forest' : RandomForestRegressor(random_state=42),\n",
    "    'Gradient Boosting' : GradientBoostingRegressor(random_state=42),\n",
    "    'XGboost':XGBRegressor(random_state=42)\n",
    "}\n",
    "\n",
    "rmse = {}\n",
    "\n",
    "for name, model in models.items():\n",
    "    model.fit(X_train, y_train)\n",
    "    y_pred = model.predict(X_val)\n",
    "    rmse[name] = np.sqrt(mean_squared_error(y_val, y_pred))\n",
    "    \n",
    "rmse"
   ]
  },
  {
   "cell_type": "markdown",
   "id": "60dfea85",
   "metadata": {},
   "source": [
    "HYPERPARAMETRE TUNING FOR THE BEST MODEL (HERE XGB BOOST)"
   ]
  },
  {
   "cell_type": "code",
   "execution_count": null,
   "id": "8c108f59",
   "metadata": {},
   "outputs": [],
   "source": [
    "param_grid = {\n",
    "    'learning_rate':[0.01, 0.05, 0.1],\n",
    "    'max_depth':[3,5,7,10,20],\n",
    "    'n_estimators':[50,100,150,200],\n",
    "    \n",
    "}\n",
    "\n",
    "xgb_grid = GridSearchCV(XGBRegressor(random_state = 42),\n",
    "                        param_grid,\n",
    "                        cv = 3,\n",
    "                        scoring = 'neg_mean_squared_error',\n",
    "                        verbose = 2,\n",
    "                        n_jobs = -1)\n",
    "\n",
    "xgb_grid.fit(X_train, y_train)"
   ]
  },
  {
   "cell_type": "markdown",
   "id": "6b75f056",
   "metadata": {},
   "source": [
    "TESTING"
   ]
  },
  {
   "cell_type": "code",
   "execution_count": 301,
   "id": "ae6db27f",
   "metadata": {},
   "outputs": [
    {
     "name": "stdout",
     "output_type": "stream",
     "text": [
      "Validation RMSE with best XGBOOST is : 20.696420047087305\n"
     ]
    }
   ],
   "source": [
    "best_model = xgb_grid.best_estimator_\n",
    "y_pred_val = best_model.predict(X_val)\n",
    "rmse_val = np.sqrt(mean_squared_error(y_val, y_pred_val))\n",
    "print(f'Validation RMSE with best XGBOOST is : {rmse_val}')"
   ]
  },
  {
   "cell_type": "markdown",
   "id": "0a87ebcf",
   "metadata": {},
   "source": [
    "BEST PARAMETERS"
   ]
  },
  {
   "cell_type": "code",
   "execution_count": 302,
   "id": "4f0fd75e",
   "metadata": {},
   "outputs": [
    {
     "data": {
      "text/plain": [
       "({'learning_rate': 0.1, 'max_depth': 7, 'n_estimators': 200},\n",
       " 20.84328972067065)"
      ]
     },
     "execution_count": 302,
     "metadata": {},
     "output_type": "execute_result"
    }
   ],
   "source": [
    "best_params = xgb_grid.best_params_\n",
    "best_rmse = np.sqrt(-xgb_grid.best_score_)\n",
    "best_params, best_rmse"
   ]
  },
  {
   "cell_type": "markdown",
   "id": "c16d37f7",
   "metadata": {},
   "source": [
    "BEST FEATURES"
   ]
  },
  {
   "cell_type": "code",
   "execution_count": null,
   "id": "abebf5ab",
   "metadata": {},
   "outputs": [],
   "source": [
    "importance = best_model.feature_importances_\n",
    "feature_importance_series = pd.Series(importance, index = X_train.columns).sort_values(ascending = False)\n",
    "feature_importance_series\n",
    "\n",
    "\n",
    "\n",
    "\n"
   ]
  },
  {
   "cell_type": "markdown",
   "id": "7dc1859a",
   "metadata": {},
   "source": [
    "TESTING ON FINAL KAGGLE TEST SET"
   ]
  },
  {
   "cell_type": "code",
   "execution_count": 362,
   "id": "728106cb",
   "metadata": {},
   "outputs": [],
   "source": [
    "test = test_encoded.drop(columns=['id','num_sold'])\n",
    "test_pred = best_model.predict(test)\n",
    "for i in range(len(test_pred)):\n",
    "    test_pred[i] = round(test_pred[i])\n",
    "submission = pd.concat([test_encoded['id'],pd.DataFrame(test_pred, columns=['num_sold'])], axis = 1)\n",
    "submission.to_csv('submission.csv', index = False)\n"
   ]
  },
  {
   "cell_type": "code",
   "execution_count": null,
   "id": "403c6433",
   "metadata": {},
   "outputs": [],
   "source": []
  },
  {
   "cell_type": "code",
   "execution_count": null,
   "id": "b0b38e4b",
   "metadata": {},
   "outputs": [],
   "source": []
  },
  {
   "cell_type": "code",
   "execution_count": null,
   "id": "9c6aeca9",
   "metadata": {},
   "outputs": [],
   "source": []
  }
 ],
 "metadata": {
  "kernelspec": {
   "display_name": "Python 3",
   "language": "python",
   "name": "python3"
  },
  "language_info": {
   "codemirror_mode": {
    "name": "ipython",
    "version": 3
   },
   "file_extension": ".py",
   "mimetype": "text/x-python",
   "name": "python",
   "nbconvert_exporter": "python",
   "pygments_lexer": "ipython3",
   "version": "3.8.8"
  }
 },
 "nbformat": 4,
 "nbformat_minor": 5
}
