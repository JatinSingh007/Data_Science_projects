{
 "cells": [
  {
   "cell_type": "markdown",
   "id": "2332883d",
   "metadata": {},
   "source": [
    "SETTING UP THE ENVIRONMENT"
   ]
  },
  {
   "cell_type": "code",
   "execution_count": 4,
   "id": "4a7e197a",
   "metadata": {},
   "outputs": [],
   "source": [
    "import tensorflow as tf\n",
    "import matplotlib.pyplot as plt\n",
    "import numpy as np\n",
    "from pathlib import Path"
   ]
  },
  {
   "cell_type": "markdown",
   "id": "c1b8c0f7",
   "metadata": {},
   "source": [
    "COLLECTING THE PATH INSIDE \"NORMAL\" AND \"PNEUMONIA\" FORLDERS OF THE ABOVE PATH"
   ]
  },
  {
   "cell_type": "code",
   "execution_count": 15,
   "id": "57a68c6b",
   "metadata": {},
   "outputs": [],
   "source": [
    "train_path = Path(\"/Users/radhikasingh/Desktop/Data Science/practice/chest_xray/train\")\n",
    "test_path = Path(\"/Users/radhikasingh/Desktop/Data Science/practice/chest_xray/test\")\n",
    "val_path = Path(\"/Users/radhikasingh/Desktop/Data Science/practice/chest_xray/val\")"
   ]
  },
  {
   "cell_type": "markdown",
   "id": "dea4e95e",
   "metadata": {},
   "source": [
    "GET PATHS USING GLOB"
   ]
  },
  {
   "cell_type": "code",
   "execution_count": 50,
   "id": "96654cae",
   "metadata": {},
   "outputs": [],
   "source": [
    "train_image_paths = train_path.glob(\"*/*\")\n",
    "val_image_paths = val_path.glob(\"*/*\")\n",
    "test_image_paths = test_path.glob(\"*/*\")"
   ]
  },
  {
   "cell_type": "markdown",
   "id": "6d08b430",
   "metadata": {},
   "source": [
    "CONVERTING GENERATOR OBJECT TO IMAGE PATHS"
   ]
  },
  {
   "cell_type": "code",
   "execution_count": 51,
   "id": "26da86f3",
   "metadata": {},
   "outputs": [],
   "source": [
    "train_image_paths = list(map(lambda x : str(x), train_image_paths))\n",
    "val_image_paths = list(map(lambda x : str(x), val_image_paths))\n",
    "test_image_paths = list(map(lambda x : str(x), test_image_paths))"
   ]
  },
  {
   "cell_type": "markdown",
   "id": "7e5d3d2e",
   "metadata": {},
   "source": [
    "GETTING IMAGE LABLES FROM PATH"
   ]
  },
  {
   "cell_type": "code",
   "execution_count": 52,
   "id": "d5afba1c",
   "metadata": {},
   "outputs": [],
   "source": [
    "LABELS = {\"NORMAL\":0, \"PNEUMONIA\": 1}\n",
    "INV_LABELS = {0: \"NORMAL\", 1:\"PNEUMONIA\"}\n",
    "\n",
    "def get_labels(path:str):\n",
    "    return LABELS[path.split('/')[-2]]\n",
    "\n",
    "train_labels = list(map(lambda x : get_labels(x), train_image_paths))\n",
    "val_labels = list(map(lambda x : get_labels(x), val_image_paths))\n",
    "test_labels = list(map(lambda x : get_labels(x), test_image_paths))\n"
   ]
  },
  {
   "cell_type": "markdown",
   "id": "7ca79f76",
   "metadata": {},
   "source": [
    "VECTORIZING THE IMAGE USING TESORFLOW"
   ]
  },
  {
   "cell_type": "code",
   "execution_count": 19,
   "id": "ad9c6337",
   "metadata": {},
   "outputs": [],
   "source": [
    "BATCH_SIZE = 32\n",
    "\n",
    "def load_and_transform(image, label, train = True):\n",
    "    image = tf.io.read_file(image)\n",
    "    image = tf.io.decode_jpeg(image, channels = 3)\n",
    "    image = tf.image.resize(image, [224,224], method = 'nearest')\n",
    "    if train:\n",
    "        image = tf.image.random_flip_left_right(image)\n",
    "    return image, label"
   ]
  },
  {
   "cell_type": "markdown",
   "id": "d6010bac",
   "metadata": {},
   "source": [
    "CREATING THE TENSORFLOW DATASET"
   ]
  },
  {
   "cell_type": "code",
   "execution_count": 41,
   "id": "ce2736fb",
   "metadata": {},
   "outputs": [],
   "source": [
    "def get_dataset(image_paths, labels, train = True):\n",
    "    image_paths = tf.convert_to_tensor(image_paths)\n",
    "    label_paths = tf.convert_to_tensor(labels)\n",
    "    \n",
    "    image_dataset = tf.data.Dataset.from_tensor_slices(image_paths)\n",
    "    label_dataset = tf.data.Dataset.from_tensor_slices(label_paths)\n",
    "    \n",
    "    dataset = tf.data.Dataset.zip((image_dataset, label_dataset)).shuffle(1000)\n",
    "    \n",
    "    dataset = dataset.map(lambda image, label : load_and_transform(image, label, \n",
    "                                                                   train))\n",
    "    dataset = dataset.repeat()\n",
    "    dataset = dataset.shuffle(2048)\n",
    "    dataset = dataset.batch(BATCH_SIZE)\n",
    "    \n",
    "    return dataset\n",
    "    \n",
    "    "
   ]
  },
  {
   "cell_type": "markdown",
   "id": "40a73417",
   "metadata": {},
   "source": [
    "BUILDING RESNET50 MODEL"
   ]
  },
  {
   "cell_type": "code",
   "execution_count": 25,
   "id": "e140c448",
   "metadata": {},
   "outputs": [
    {
     "name": "stdout",
     "output_type": "stream",
     "text": [
      "Model: \"sequential\"\n",
      "_________________________________________________________________\n",
      "Layer (type)                 Output Shape              Param #   \n",
      "=================================================================\n",
      "resnet50v2 (Functional)      (None, 7, 7, 2048)        23564800  \n",
      "_________________________________________________________________\n",
      "global_average_pooling2d_1 ( (None, 2048)              0         \n",
      "_________________________________________________________________\n",
      "dense (Dense)                (None, 1)                 2049      \n",
      "=================================================================\n",
      "Total params: 23,566,849\n",
      "Trainable params: 23,521,409\n",
      "Non-trainable params: 45,440\n",
      "_________________________________________________________________\n"
     ]
    }
   ],
   "source": [
    "from tensorflow.keras.applications import ResNet50V2\n",
    "\n",
    "backbone = ResNet50V2(\n",
    "         input_shape = (224,224,3),\n",
    "         include_top = False\n",
    "          \n",
    ")\n",
    "model = tf.keras.Sequential([\n",
    "       backbone,\n",
    "       tf.keras.layers.GlobalAveragePooling2D(),\n",
    "       tf.keras.layers.Dense(1, activation = 'sigmoid')\n",
    "       \n",
    "])\n",
    "model.summary()"
   ]
  },
  {
   "cell_type": "markdown",
   "id": "8c3b8b81",
   "metadata": {},
   "source": [
    "COMPILING THE MODEL"
   ]
  },
  {
   "cell_type": "code",
   "execution_count": 28,
   "id": "fddf3b79",
   "metadata": {},
   "outputs": [],
   "source": [
    "model.compile(\n",
    "    optimizer = tf.keras.optimizers.Adam(learning_rate = 0.001, beta_1 = 0.9, beta_2 = 0.999),\n",
    "    loss = 'binary_crossentropy',\n",
    "    metrics = ['accuracy', tf.keras.metrics.Precision(name = 'precision'),\n",
    "               tf.keras.metrics.Recall(name = 'recall')]\n",
    "    \n",
    "   )"
   ]
  },
  {
   "cell_type": "markdown",
   "id": "35a15b8b",
   "metadata": {},
   "source": [
    "DEFINING OUR CALLBACKS"
   ]
  },
  {
   "cell_type": "code",
   "execution_count": 29,
   "id": "4c943f9f",
   "metadata": {},
   "outputs": [],
   "source": [
    "checkpoint = tf.keras.callbacks.ModelCheckpoint(\"best_weights.h5\", verbose = 1, save_best_only = True,\n",
    "                                               save_weights_only = True)\n",
    "early_stop = tf.keras.callbacks.EarlyStopping(patience=4)"
   ]
  },
  {
   "cell_type": "markdown",
   "id": "97b72a5c",
   "metadata": {},
   "source": [
    "TRAINING OUR MODEL"
   ]
  },
  {
   "cell_type": "code",
   "execution_count": 44,
   "id": "62503ca8",
   "metadata": {},
   "outputs": [
    {
     "name": "stdout",
     "output_type": "stream",
     "text": [
      "Epoch 1/8\n",
      "163/163 [==============================] - 2477s 15s/step - loss: 0.1665 - accuracy: 0.9331 - precision: 0.9591 - recall: 0.9580\n",
      "WARNING:tensorflow:Can save best model only with val_loss available, skipping.\n",
      "WARNING:tensorflow:Early stopping conditioned on metric `val_loss` which is not available. Available metrics are: loss,accuracy,precision,recall\n",
      "Epoch 2/8\n",
      "163/163 [==============================] - 2332s 14s/step - loss: 0.1280 - accuracy: 0.9534 - precision: 0.9668 - recall: 0.9706\n",
      "WARNING:tensorflow:Can save best model only with val_loss available, skipping.\n",
      "WARNING:tensorflow:Early stopping conditioned on metric `val_loss` which is not available. Available metrics are: loss,accuracy,precision,recall\n",
      "Epoch 3/8\n",
      "163/163 [==============================] - 2410s 15s/step - loss: 0.1130 - accuracy: 0.9582 - precision: 0.9719 - recall: 0.9724\n",
      "WARNING:tensorflow:Can save best model only with val_loss available, skipping.\n",
      "WARNING:tensorflow:Early stopping conditioned on metric `val_loss` which is not available. Available metrics are: loss,accuracy,precision,recall\n",
      "Epoch 4/8\n",
      "163/163 [==============================] - 2414s 15s/step - loss: 0.0851 - accuracy: 0.9689 - precision: 0.9778 - recall: 0.9799\n",
      "WARNING:tensorflow:Can save best model only with val_loss available, skipping.\n",
      "WARNING:tensorflow:Early stopping conditioned on metric `val_loss` which is not available. Available metrics are: loss,accuracy,precision,recall\n",
      "Epoch 5/8\n",
      "163/163 [==============================] - 2150s 13s/step - loss: 0.0761 - accuracy: 0.9724 - precision: 0.9821 - recall: 0.9811\n",
      "WARNING:tensorflow:Can save best model only with val_loss available, skipping.\n",
      "WARNING:tensorflow:Early stopping conditioned on metric `val_loss` which is not available. Available metrics are: loss,accuracy,precision,recall\n",
      "Epoch 6/8\n",
      "163/163 [==============================] - 2145s 13s/step - loss: 0.0740 - accuracy: 0.9730 - precision: 0.9811 - recall: 0.9824\n",
      "WARNING:tensorflow:Can save best model only with val_loss available, skipping.\n",
      "WARNING:tensorflow:Early stopping conditioned on metric `val_loss` which is not available. Available metrics are: loss,accuracy,precision,recall\n",
      "Epoch 7/8\n",
      "163/163 [==============================] - 2148s 13s/step - loss: 0.0645 - accuracy: 0.9776 - precision: 0.9847 - recall: 0.9850\n",
      "WARNING:tensorflow:Can save best model only with val_loss available, skipping.\n",
      "WARNING:tensorflow:Early stopping conditioned on metric `val_loss` which is not available. Available metrics are: loss,accuracy,precision,recall\n",
      "Epoch 8/8\n",
      "163/163 [==============================] - 2117s 13s/step - loss: 0.0583 - accuracy: 0.9785 - precision: 0.9857 - recall: 0.9857\n",
      "WARNING:tensorflow:Can save best model only with val_loss available, skipping.\n",
      "WARNING:tensorflow:Early stopping conditioned on metric `val_loss` which is not available. Available metrics are: loss,accuracy,precision,recall\n"
     ]
    }
   ],
   "source": [
    "train_dataset = get_dataset(train_image_paths, train_labels)\n",
    "val_dataset = get_dataset(val_image_paths, val_labels, train = False)\n",
    "\n",
    "history = model.fit(\n",
    "    train_dataset,\n",
    "    steps_per_epoch = len(train_image_paths)//BATCH_SIZE,\n",
    "    epochs = 8,\n",
    "    callbacks=[checkpoint, early_stop],\n",
    "    validation_data = val_dataset,\n",
    "    validation_steps = len(val_image_paths)//BATCH_SIZE\n",
    "    \n",
    ")"
   ]
  },
  {
   "cell_type": "markdown",
   "id": "c3d603fb",
   "metadata": {},
   "source": [
    "VISUALISING THE TRAINING PROCESS PER EPOCH"
   ]
  },
  {
   "cell_type": "code",
   "execution_count": 48,
   "id": "8af173aa",
   "metadata": {},
   "outputs": [
    {
     "data": {
      "image/png": "[encoded data removed]",
      "text/plain": [
       "<Figure size 1440x216 with 4 Axes>"
      ]
     },
     "metadata": {
      "needs_background": "light"
     },
     "output_type": "display_data"
    }
   ],
   "source": [
    "fig,ax = plt.subplots(1,4, figsize = (20,3))\n",
    "ax = ax.ravel()\n",
    "for i, met in enumerate(['precision', 'recall', 'accuracy', 'loss']):\n",
    "    ax[i].plot(history.history[met])\n",
    "    ax[i].set_title('Model {}'.format(met))\n",
    "    ax[i].set_xlabel('epochs')\n",
    "    ax[i].set_ylabel(met)\n",
    "    ax[i].legend(['train', 'val'])\n",
    "    \n",
    "    \n",
    "    "
   ]
  },
  {
   "cell_type": "code",
   "execution_count": 49,
   "id": "387e9038",
   "metadata": {},
   "outputs": [
    {
     "name": "stderr",
     "output_type": "stream",
     "text": [
      "/opt/anaconda3/lib/python3.8/site-packages/tensorflow/python/keras/utils/generic_utils.py:494: CustomMaskWarning: Custom mask layers require a config and must override get_config. When loading, the custom mask layer must be passed to the custom_objects argument.\n",
      "  warnings.warn('Custom mask layers require a config and must override '\n"
     ]
    }
   ],
   "source": [
    "model.save(\"model.h5\")"
   ]
  },
  {
   "cell_type": "markdown",
   "id": "8ece3943",
   "metadata": {},
   "source": [
    "TESTING OUR MODEL ON OUR TEST DATASET"
   ]
  },
  {
   "cell_type": "code",
   "execution_count": 56,
   "id": "71dec25c",
   "metadata": {},
   "outputs": [],
   "source": [
    "test_dataset = (\n",
    "      tf.data.Dataset\n",
    "     .from_tensor_slices((test_image_paths, test_labels))\n",
    "     .map(load_and_transform)\n",
    "     .batch(BATCH_SIZE)\n",
    ")"
   ]
  },
  {
   "cell_type": "code",
   "execution_count": 57,
   "id": "e4054de6",
   "metadata": {},
   "outputs": [
    {
     "name": "stdout",
     "output_type": "stream",
     "text": [
      "20/20 [==============================] - 57s 3s/step - loss: 3.6295 - accuracy: 0.6330 - precision: 0.6300 - recall: 1.0000\n"
     ]
    }
   ],
   "source": [
    "loss, acc, prec, rec = model.evaluate(test_dataset)"
   ]
  },
  {
   "cell_type": "code",
   "execution_count": 60,
   "id": "0db7f73f",
   "metadata": {},
   "outputs": [
    {
     "name": "stdout",
     "output_type": "stream",
     "text": [
      "Loss: 3.6295323371887207\n",
      "Acc:  0.6330128312110901\n",
      "Prec: 0.6300484538078308\n",
      "Rec:  1.0\n"
     ]
    }
   ],
   "source": [
    "print(f\"Loss: {loss}\")\n",
    "print(f\"Acc:  {acc}\")\n",
    "print(f\"Prec: {prec}\")\n",
    "print(f\"Rec:  {rec}\")"
   ]
  },
  {
   "cell_type": "code",
   "execution_count": null,
   "id": "6bf17c8f",
   "metadata": {},
   "outputs": [],
   "source": []
  }
 ],
 "metadata": {
  "kernelspec": {
   "display_name": "Python 3.11.5 (myenv)",
   "language": "python",
   "name": "myenv"
  },
  "language_info": {
   "codemirror_mode": {
    "name": "ipython",
    "version": 3
   },
   "file_extension": ".py",
   "mimetype": "text/x-python",
   "name": "python",
   "nbconvert_exporter": "python",
   "pygments_lexer": "ipython3",
   "version": "3.8.8"
  }
 },
 "nbformat": 4,
 "nbformat_minor": 5
}
