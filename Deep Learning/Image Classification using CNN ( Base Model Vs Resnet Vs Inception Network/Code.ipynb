{
 "cells": [
  {
   "cell_type": "markdown",
   "id": "88219876",
   "metadata": {},
   "source": [
    "SETTING UP THE ENVIRONMENT"
   ]
  },
  {
   "cell_type": "code",
   "execution_count": 1,
   "id": "39bb4108",
   "metadata": {},
   "outputs": [],
   "source": [
    "import tensorflow as tf\n",
    "from tensorflow import keras\n",
    "import seaborn as sns\n",
    "import matplotlib.pyplot as plt\n",
    "%matplotlib inline\n",
    "from sklearn.model_selection import train_test_split, GridSearchCV\n",
    "import pandas as pd\n",
    "import numpy as np\n",
    "import pathlib\n",
    "import os\n",
    "from random import shuffle\n",
    "from tqdm import tqdm\n",
    "from sklearn.preprocessing import LabelEncoder\n",
    "from tensorflow.keras.layers import Activation, Dense,Conv2D, MaxPooling2D,Flatten, Dropout, BatchNormalization, GlobalMaxPool2D\n",
    "from tensorflow.keras.models import Sequential\n",
    "\n"
   ]
  },
  {
   "cell_type": "code",
   "execution_count": 2,
   "id": "7d20579d",
   "metadata": {},
   "outputs": [
    {
     "data": {
      "text/plain": [
       "['dog.8011.jpg',\n",
       " 'cat.5077.jpg',\n",
       " 'dog.7322.jpg',\n",
       " 'cat.2718.jpg',\n",
       " 'cat.10151.jpg',\n",
       " 'cat.3406.jpg',\n",
       " 'dog.1753.jpg',\n",
       " 'cat.4369.jpg',\n",
       " 'cat.7660.jpg',\n",
       " 'dog.5535.jpg']"
      ]
     },
     "execution_count": 2,
     "metadata": {},
     "output_type": "execute_result"
    }
   ],
   "source": [
    "# Extracting Paths\n",
    "\n",
    "my_path = '/Users/radhikasingh/Desktop/Data Science/practice/train/'\n",
    "all_paths = os.listdir('/Users/radhikasingh/Desktop/Data Science/practice/train/')\n",
    "all_paths[:10]"
   ]
  },
  {
   "cell_type": "code",
   "execution_count": 3,
   "id": "1285dd3a",
   "metadata": {},
   "outputs": [],
   "source": [
    "shuffle(all_paths)"
   ]
  },
  {
   "cell_type": "code",
   "execution_count": 4,
   "id": "701aadf7",
   "metadata": {},
   "outputs": [
    {
     "name": "stderr",
     "output_type": "stream",
     "text": [
      "100%|██████████| 25000/25000 [02:51<00:00, 146.12it/s]\n"
     ]
    }
   ],
   "source": [
    "# Removing Bad Quality Images\n",
    "\n",
    "def TestImageQuality(all_paths):\n",
    "    new_all_paths = []\n",
    "    for path in tqdm(all_paths):\n",
    "        try:\n",
    "            new_path = my_path + path\n",
    "            image = tf.io.read_file(new_path)\n",
    "            image = tf.io.decode_jpeg(image, channels = 3)\n",
    "        except Exception as e:\n",
    "            print(e)\n",
    "            continue\n",
    "        new_all_paths.append(new_path)\n",
    "    return new_all_paths\n",
    "\n",
    "paths = TestImageQuality(all_paths)\n",
    "    "
   ]
  },
  {
   "cell_type": "code",
   "execution_count": 5,
   "id": "61e5fbf3",
   "metadata": {},
   "outputs": [
    {
     "data": {
      "text/plain": [
       "['/Users/radhikasingh/Desktop/Data Science/practice/train/dog.6874.jpg',\n",
       " '/Users/radhikasingh/Desktop/Data Science/practice/train/cat.6491.jpg',\n",
       " '/Users/radhikasingh/Desktop/Data Science/practice/train/cat.3089.jpg',\n",
       " '/Users/radhikasingh/Desktop/Data Science/practice/train/cat.9017.jpg',\n",
       " '/Users/radhikasingh/Desktop/Data Science/practice/train/dog.12299.jpg',\n",
       " '/Users/radhikasingh/Desktop/Data Science/practice/train/dog.246.jpg',\n",
       " '/Users/radhikasingh/Desktop/Data Science/practice/train/cat.8210.jpg',\n",
       " '/Users/radhikasingh/Desktop/Data Science/practice/train/dog.10823.jpg',\n",
       " '/Users/radhikasingh/Desktop/Data Science/practice/train/dog.6623.jpg',\n",
       " '/Users/radhikasingh/Desktop/Data Science/practice/train/cat.2546.jpg']"
      ]
     },
     "execution_count": 5,
     "metadata": {},
     "output_type": "execute_result"
    }
   ],
   "source": [
    "paths[:10]"
   ]
  },
  {
   "cell_type": "code",
   "execution_count": 6,
   "id": "501610c8",
   "metadata": {},
   "outputs": [
    {
     "name": "stderr",
     "output_type": "stream",
     "text": [
      "100%|██████████| 25000/25000 [00:00<00:00, 106521.14it/s]\n"
     ]
    },
    {
     "data": {
      "text/plain": [
       "['dog', 'cat', 'cat', 'cat', 'dog', 'dog', 'cat', 'dog', 'dog', 'cat']"
      ]
     },
     "execution_count": 6,
     "metadata": {},
     "output_type": "execute_result"
    }
   ],
   "source": [
    "# Getting Labels (Cat, Dog)\n",
    "\n",
    "def get_labels(paths):\n",
    "    labels = []\n",
    "    for path in tqdm(paths):\n",
    "        labels.append(path.split('/')[-1].split('.')[0])\n",
    "        \n",
    "    return labels\n",
    "\n",
    "labels = get_labels(paths)\n",
    "labels[:10]"
   ]
  },
  {
   "cell_type": "code",
   "execution_count": 7,
   "id": "c263f864",
   "metadata": {},
   "outputs": [],
   "source": [
    "# Encoding our Lables (Dog : 1, Cat : 0)\n",
    "\n",
    "encoder = LabelEncoder()\n",
    "labels = encoder.fit_transform(labels)"
   ]
  },
  {
   "cell_type": "code",
   "execution_count": 8,
   "id": "253af76f",
   "metadata": {},
   "outputs": [
    {
     "data": {
      "text/plain": [
       "array([1, 0, 0, ..., 1, 0, 0])"
      ]
     },
     "execution_count": 8,
     "metadata": {},
     "output_type": "execute_result"
    }
   ],
   "source": [
    "labels"
   ]
  },
  {
   "cell_type": "code",
   "execution_count": 9,
   "id": "376e6298",
   "metadata": {},
   "outputs": [],
   "source": [
    "# Train - Test Split\n",
    "\n",
    "train_paths, val_paths, train_labels, val_labels = train_test_split(paths, labels, test_size = 0.2, random_state=42)\n",
    "\n"
   ]
  },
  {
   "cell_type": "code",
   "execution_count": 10,
   "id": "32f1930c",
   "metadata": {},
   "outputs": [],
   "source": [
    "# Making Tensor object\n",
    "\n",
    "def load(image, label):\n",
    " \n",
    "    image = tf.io.read_file(image)\n",
    "    image = tf.io.decode_jpeg(image, channels = 3)\n",
    "    return image, label\n",
    "    \n",
    "    "
   ]
  },
  {
   "cell_type": "code",
   "execution_count": 11,
   "id": "ed3593d0",
   "metadata": {},
   "outputs": [],
   "source": [
    "# Creating Two layers One for Augmentation & Resizing\n",
    "\n",
    "IMG_SIZE = 224\n",
    "BATCH_SIZE = 128\n",
    "\n",
    "resize = keras.Sequential([\n",
    "    keras.layers.experimental.preprocessing.Resizing(IMG_SIZE,IMG_SIZE)\n",
    "])\n",
    "\n",
    "data_augmentation = keras.Sequential([\n",
    "    keras.layers.experimental.preprocessing.RandomFlip('horizontal'),\n",
    "    keras.layers.experimental.preprocessing.RandomRotation(0.2),\n",
    "    keras.layers.experimental.preprocessing.RandomZoom(height_factor = (-0.3, -0.2))\n",
    "])"
   ]
  },
  {
   "cell_type": "code",
   "execution_count": 12,
   "id": "e5f211ff",
   "metadata": {},
   "outputs": [],
   "source": [
    "# Forming Tensor Dataset to fit for our moodeling process\n",
    "\n",
    "AUTOTUNE = tf.data.experimental.AUTOTUNE\n",
    "\n",
    "def get_dataset(paths, labels, train = True):\n",
    "    image_paths = tf.convert_to_tensor(paths)\n",
    "    labels = tf.convert_to_tensor(labels)\n",
    "    \n",
    "    image_dataset = tf.data.Dataset.from_tensor_slices(image_paths)\n",
    "    label_dataset = tf.data.Dataset.from_tensor_slices(labels)\n",
    "    dataset = tf.data.Dataset.zip((image_dataset, label_dataset))\n",
    "    \n",
    "    dataset = dataset.map(lambda image,label: load(image, label))\n",
    "    dataset = dataset.map(lambda image,label: (resize(image), label), num_parallel_calls=AUTOTUNE)\n",
    "    dataset = dataset.shuffle(1000)\n",
    "    dataset = dataset.batch(BATCH_SIZE)\n",
    "    \n",
    "    if train:\n",
    "        dataset = dataset.map(lambda image,label: (data_augmentation(image), label), num_parallel_calls=AUTOTUNE)\n",
    "        dataset = dataset.repeat()\n",
    "    \n",
    "    return dataset\n",
    "\n",
    "    \n",
    "    \n",
    "    "
   ]
  },
  {
   "cell_type": "code",
   "execution_count": 13,
   "id": "0a59558c",
   "metadata": {},
   "outputs": [
    {
     "data": {
      "text/plain": [
       "(TensorShape([128, 224, 224, 3]), TensorShape([128]))"
      ]
     },
     "execution_count": 13,
     "metadata": {},
     "output_type": "execute_result"
    }
   ],
   "source": [
    "train_dataset = get_dataset(train_paths, train_labels)\n",
    "image, label = next(iter(train_dataset))\n",
    "image.shape, label.shape"
   ]
  },
  {
   "cell_type": "code",
   "execution_count": 14,
   "id": "a7399ac1",
   "metadata": {},
   "outputs": [
    {
     "data": {
      "image/png": "[encoded data removed]",
      "text/plain": [
       "<Figure size 432x288 with 9 Axes>"
      ]
     },
     "metadata": {
      "needs_background": "light"
     },
     "output_type": "display_data"
    }
   ],
   "source": [
    "for i in range(9):\n",
    " \n",
    " plt.subplot(3,3,i+1)\n",
    " plt.imshow(((image[i].numpy())/255).reshape(224,224,3))\n",
    " plt.grid(False)\n",
    " plt.axis('off')\n"
   ]
  },
  {
   "cell_type": "code",
   "execution_count": 15,
   "id": "3d269463",
   "metadata": {},
   "outputs": [],
   "source": [
    "val_dataset = get_dataset(val_paths, val_labels, train = False)\n"
   ]
  },
  {
   "cell_type": "code",
   "execution_count": 16,
   "id": "41abed6c",
   "metadata": {},
   "outputs": [],
   "source": [
    "# Creating Convolution layer with padding then Pooling\n",
    "\n",
    "model = Sequential()\n",
    "\n",
    "#Block - 0\n",
    "model.add(Conv2D(input_shape = (224, 224, 3), padding = 'same', filters = 32, kernel_size = (7,7)))\n",
    "model.add(Activation('relu'))\n",
    "model.add(BatchNormalization())\n",
    "model.add(MaxPooling2D(pool_size = (2,2)))\n",
    "model.add(Dropout(0.2))\n",
    "\n",
    "#Block - 1\n",
    "model.add(Conv2D(padding = 'valid', filters = 64, kernel_size = (5,5)))\n",
    "model.add(Activation('relu'))\n",
    "model.add(BatchNormalization())\n",
    "model.add(MaxPooling2D(pool_size = (2,2)))\n",
    "model.add(Dropout(0.2))\n",
    "\n",
    "#Block - 2\n",
    "model.add(Conv2D(padding = 'valid',filters = 128, kernel_size = (3,3)))\n",
    "model.add(Activation('relu'))\n",
    "model.add(BatchNormalization())\n",
    "model.add(MaxPooling2D(pool_size = (2,2)))\n",
    "model.add(Dropout(0.2))\n",
    "\n",
    "#Block - 3\n",
    "model.add(Conv2D(padding = 'valid',filters = 256, kernel_size = (3,3)))\n",
    "model.add(Activation('relu'))\n",
    "model.add(BatchNormalization())\n",
    "model.add(MaxPooling2D(pool_size = (2,2)))\n",
    "model.add(Dropout(0.2))\n",
    "\n",
    "#Block - 4\n",
    "model.add(Conv2D(filters = 256, kernel_size = (3,3)))\n",
    "model.add(Activation('relu'))\n",
    "model.add(BatchNormalization())\n",
    "model.add(MaxPooling2D(pool_size = (2,2)))\n",
    "model.add(Dropout(0.2))\n",
    "\n",
    "model.add(GlobalMaxPool2D())\n",
    "\n",
    "model.add(Dense(units = 256))\n",
    "model.add(Activation('relu'))\n",
    "model.add(Dropout((0.2)))\n",
    "\n",
    "\n",
    "model.add(Dense(units = 1))\n",
    "model.add(Activation('sigmoid'))"
   ]
  },
  {
   "cell_type": "code",
   "execution_count": 17,
   "id": "19d6b3ec",
   "metadata": {},
   "outputs": [
    {
     "name": "stdout",
     "output_type": "stream",
     "text": [
      "Model: \"sequential_2\"\n",
      "_________________________________________________________________\n",
      "Layer (type)                 Output Shape              Param #   \n",
      "=================================================================\n",
      "conv2d (Conv2D)              (None, 224, 224, 32)      4736      \n",
      "_________________________________________________________________\n",
      "activation (Activation)      (None, 224, 224, 32)      0         \n",
      "_________________________________________________________________\n",
      "batch_normalization (BatchNo (None, 224, 224, 32)      128       \n",
      "_________________________________________________________________\n",
      "max_pooling2d (MaxPooling2D) (None, 112, 112, 32)      0         \n",
      "_________________________________________________________________\n",
      "dropout (Dropout)            (None, 112, 112, 32)      0         \n",
      "_________________________________________________________________\n",
      "conv2d_1 (Conv2D)            (None, 108, 108, 64)      51264     \n",
      "_________________________________________________________________\n",
      "activation_1 (Activation)    (None, 108, 108, 64)      0         \n",
      "_________________________________________________________________\n",
      "batch_normalization_1 (Batch (None, 108, 108, 64)      256       \n",
      "_________________________________________________________________\n",
      "max_pooling2d_1 (MaxPooling2 (None, 54, 54, 64)        0         \n",
      "_________________________________________________________________\n",
      "dropout_1 (Dropout)          (None, 54, 54, 64)        0         \n",
      "_________________________________________________________________\n",
      "conv2d_2 (Conv2D)            (None, 52, 52, 128)       73856     \n",
      "_________________________________________________________________\n",
      "activation_2 (Activation)    (None, 52, 52, 128)       0         \n",
      "_________________________________________________________________\n",
      "batch_normalization_2 (Batch (None, 52, 52, 128)       512       \n",
      "_________________________________________________________________\n",
      "max_pooling2d_2 (MaxPooling2 (None, 26, 26, 128)       0         \n",
      "_________________________________________________________________\n",
      "dropout_2 (Dropout)          (None, 26, 26, 128)       0         \n",
      "_________________________________________________________________\n",
      "conv2d_3 (Conv2D)            (None, 24, 24, 256)       295168    \n",
      "_________________________________________________________________\n",
      "activation_3 (Activation)    (None, 24, 24, 256)       0         \n",
      "_________________________________________________________________\n",
      "batch_normalization_3 (Batch (None, 24, 24, 256)       1024      \n",
      "_________________________________________________________________\n",
      "max_pooling2d_3 (MaxPooling2 (None, 12, 12, 256)       0         \n",
      "_________________________________________________________________\n",
      "dropout_3 (Dropout)          (None, 12, 12, 256)       0         \n",
      "_________________________________________________________________\n",
      "conv2d_4 (Conv2D)            (None, 10, 10, 256)       590080    \n",
      "_________________________________________________________________\n",
      "activation_4 (Activation)    (None, 10, 10, 256)       0         \n",
      "_________________________________________________________________\n",
      "batch_normalization_4 (Batch (None, 10, 10, 256)       1024      \n",
      "_________________________________________________________________\n",
      "max_pooling2d_4 (MaxPooling2 (None, 5, 5, 256)         0         \n",
      "_________________________________________________________________\n",
      "dropout_4 (Dropout)          (None, 5, 5, 256)         0         \n",
      "_________________________________________________________________\n",
      "global_max_pooling2d (Global (None, 256)               0         \n",
      "_________________________________________________________________\n",
      "dense (Dense)                (None, 256)               65792     \n",
      "_________________________________________________________________\n",
      "activation_5 (Activation)    (None, 256)               0         \n",
      "_________________________________________________________________\n",
      "dropout_5 (Dropout)          (None, 256)               0         \n",
      "_________________________________________________________________\n",
      "dense_1 (Dense)              (None, 1)                 257       \n",
      "_________________________________________________________________\n",
      "activation_6 (Activation)    (None, 1)                 0         \n",
      "=================================================================\n",
      "Total params: 1,084,097\n",
      "Trainable params: 1,082,625\n",
      "Non-trainable params: 1,472\n",
      "_________________________________________________________________\n",
      "None\n"
     ]
    }
   ],
   "source": [
    "print(model.summary())"
   ]
  },
  {
   "cell_type": "code",
   "execution_count": 18,
   "id": "d3f728d2",
   "metadata": {},
   "outputs": [],
   "source": [
    "model.compile(\n",
    "   loss = 'binary_crossentropy',\n",
    "   optimizer = 'adam',\n",
    "   metrics = ['accuracy']\n",
    ")\n"
   ]
  },
  {
   "cell_type": "code",
   "execution_count": 20,
   "id": "49e95756",
   "metadata": {},
   "outputs": [
    {
     "name": "stdout",
     "output_type": "stream",
     "text": [
      "Epoch 1/5\n",
      "156/156 [==============================] - 4326s 28s/step - loss: 0.8155 - accuracy: 0.5910 - val_loss: 0.6931 - val_accuracy: 0.5294\n",
      "Epoch 2/5\n",
      "156/156 [==============================] - 4090s 26s/step - loss: 0.5946 - accuracy: 0.6827 - val_loss: 0.6343 - val_accuracy: 0.6164\n",
      "Epoch 3/5\n",
      "156/156 [==============================] - 3535s 23s/step - loss: 0.5493 - accuracy: 0.7239 - val_loss: 0.6546 - val_accuracy: 0.6464\n",
      "Epoch 4/5\n",
      "156/156 [==============================] - 4502s 29s/step - loss: 0.5277 - accuracy: 0.7359 - val_loss: 0.5394 - val_accuracy: 0.7122\n",
      "Epoch 5/5\n",
      "156/156 [==============================] - 3271s 21s/step - loss: 0.4726 - accuracy: 0.7763 - val_loss: 0.5064 - val_accuracy: 0.7510\n"
     ]
    }
   ],
   "source": [
    "history = model.fit(\n",
    "    train_dataset, \n",
    "    steps_per_epoch=len(train_paths)/BATCH_SIZE,\n",
    "    epochs = 5,\n",
    "    validation_data=val_dataset,\n",
    "    verbose=1\n",
    "                   )"
   ]
  },
  {
   "cell_type": "code",
   "execution_count": 21,
   "id": "53b0b5d8",
   "metadata": {},
   "outputs": [
    {
     "name": "stdout",
     "output_type": "stream",
     "text": [
      "40/40 [==============================] - 191s 5s/step - loss: 0.5064 - accuracy: 0.7510\n",
      "{'loss': 0.5064208507537842, 'acc': 0.7509999871253967}\n"
     ]
    }
   ],
   "source": [
    "loss, acc = model.evaluate(val_dataset)\n",
    "print({\n",
    "    'loss' : loss,\n",
    "    'acc' : acc\n",
    "})"
   ]
  },
  {
   "cell_type": "code",
   "execution_count": 25,
   "id": "d0e33590",
   "metadata": {},
   "outputs": [
    {
     "name": "stdout",
     "output_type": "stream",
     "text": [
      "Downloading data from https://storage.googleapis.com/tensorflow/keras-applications/resnet/resnet50v2_weights_tf_dim_ordering_tf_kernels_notop.h5\n",
      "94674944/94668760 [==============================] - 65s 1us/step\n"
     ]
    }
   ],
   "source": [
    "# Training Resnet model through transfer learning and keeping top layers as False\n",
    "\n",
    "from tensorflow.keras.applications import ResNet50V2, InceptionV2\n",
    "\n",
    "\n",
    "backbone = ResNet50V2(\n",
    "   input_shape = (224,224,3),\n",
    "   include_top = False\n",
    ")\n",
    "\n",
    "model_Resnet = tf.keras.Sequential([\n",
    "    backbone,\n",
    "    tf.keras.layers.GlobalAveragePooling2D(),\n",
    "    tf.keras.layers.Dense(1, activation = 'sigmoid')\n",
    "])\n"
   ]
  },
  {
   "cell_type": "code",
   "execution_count": 26,
   "id": "4b981391",
   "metadata": {},
   "outputs": [
    {
     "name": "stdout",
     "output_type": "stream",
     "text": [
      "Model: \"sequential_4\"\n",
      "_________________________________________________________________\n",
      "Layer (type)                 Output Shape              Param #   \n",
      "=================================================================\n",
      "resnet50v2 (Functional)      (None, 7, 7, 2048)        23564800  \n",
      "_________________________________________________________________\n",
      "global_average_pooling2d_1 ( (None, 2048)              0         \n",
      "_________________________________________________________________\n",
      "dense_3 (Dense)              (None, 1)                 2049      \n",
      "=================================================================\n",
      "Total params: 23,566,849\n",
      "Trainable params: 23,521,409\n",
      "Non-trainable params: 45,440\n",
      "_________________________________________________________________\n"
     ]
    }
   ],
   "source": [
    "model_Resnet.summary()"
   ]
  },
  {
   "cell_type": "code",
   "execution_count": 27,
   "id": "a710f862",
   "metadata": {},
   "outputs": [],
   "source": [
    "model_Resnet.compile(\n",
    "   loss = 'binary_crossentropy',\n",
    "   optimizer = 'adam',\n",
    "   metrics = ['accuracy']\n",
    ")\n"
   ]
  },
  {
   "cell_type": "code",
   "execution_count": 30,
   "id": "a929174e",
   "metadata": {},
   "outputs": [
    {
     "name": "stdout",
     "output_type": "stream",
     "text": [
      "Epoch 1/5\n",
      "10/10 [==============================] - 1186s 121s/step - loss: 0.3993 - accuracy: 0.8477 - val_loss: 38.0359 - val_accuracy: 0.5128\n",
      "Epoch 2/5\n",
      "10/10 [==============================] - 1115s 116s/step - loss: 0.3601 - accuracy: 0.8609 - val_loss: 5.7655 - val_accuracy: 0.4922\n",
      "Epoch 3/5\n",
      "10/10 [==============================] - 1113s 116s/step - loss: 0.3256 - accuracy: 0.8594 - val_loss: 12.1716 - val_accuracy: 0.4948\n",
      "Epoch 4/5\n",
      "10/10 [==============================] - 1113s 116s/step - loss: 0.2675 - accuracy: 0.8930 - val_loss: 3.1125 - val_accuracy: 0.6104\n",
      "Epoch 5/5\n",
      "10/10 [==============================] - 1113s 116s/step - loss: 0.2113 - accuracy: 0.9062 - val_loss: 4.6464 - val_accuracy: 0.5612\n"
     ]
    }
   ],
   "source": [
    "history = model_Resnet.fit(\n",
    "    train_dataset, \n",
    "    steps_per_epoch=10,\n",
    "    epochs = 5,\n",
    "    validation_data=val_dataset,\n",
    "    verbose=1\n",
    "                   )"
   ]
  },
  {
   "cell_type": "code",
   "execution_count": 34,
   "id": "0d678801",
   "metadata": {},
   "outputs": [
    {
     "name": "stdout",
     "output_type": "stream",
     "text": [
      "40/40 [==============================] - 442s 11s/step - loss: 4.6464 - accuracy: 0.5612\n",
      "{'loss': 4.646364688873291, 'acc': 0.5612000226974487}\n"
     ]
    }
   ],
   "source": [
    "loss_Resnet, acc_Resnet = model_Resnet.evaluate(val_dataset)\n",
    "print({\n",
    "    'loss' : loss_Resnet,\n",
    "    'acc' : acc_Resnet\n",
    "})\n"
   ]
  },
  {
   "cell_type": "code",
   "execution_count": 35,
   "id": "2100e904",
   "metadata": {},
   "outputs": [],
   "source": [
    "# Training Inception model through transfer learning and keeping top layers as False\n",
    "\n",
    "\n",
    "backbone = InceptionV3(\n",
    "   input_shape = (224,224,3),\n",
    "   include_top = False\n",
    ")\n",
    "\n",
    "model_Inception = tf.keras.Sequential([\n",
    "    backbone,\n",
    "    tf.keras.layers.GlobalAveragePooling2D(),\n",
    "    tf.keras.layers.Dense(1, activation = 'sigmoid')\n",
    "])\n"
   ]
  },
  {
   "cell_type": "code",
   "execution_count": null,
   "id": "a5b068ca",
   "metadata": {},
   "outputs": [],
   "source": [
    "model_Inception.summary()"
   ]
  },
  {
   "cell_type": "code",
   "execution_count": null,
   "id": "d76a0ba6",
   "metadata": {},
   "outputs": [],
   "source": [
    "model_Inception.compile(\n",
    "   loss = 'binary_crossentropy',\n",
    "   optimizer = 'adam',\n",
    "   metrics = ['accuracy']\n",
    ")\n"
   ]
  },
  {
   "cell_type": "code",
   "execution_count": null,
   "id": "783077f5",
   "metadata": {},
   "outputs": [],
   "source": [
    "history = model_Inception.fit(\n",
    "    train_dataset, \n",
    "    steps_per_epoch=10,\n",
    "    epochs = 5,\n",
    "    validation_data=val_dataset,\n",
    "    verbose=1\n",
    "                   )"
   ]
  },
  {
   "cell_type": "code",
   "execution_count": null,
   "id": "018713a4",
   "metadata": {},
   "outputs": [],
   "source": [
    "loss_Inception, acc_Inception = model_Inception.evaluate(val_dataset)\n",
    "print({\n",
    "    'loss' : loss_Inception,\n",
    "    'acc' : acc_Inception\n",
    "})"
   ]
  },
  {
   "cell_type": "code",
   "execution_count": 54,
   "id": "fa9dfb0c",
   "metadata": {},
   "outputs": [],
   "source": [
    "# Comparing the Performance of Pre-Trained Models and Our own base Model\n",
    "Comparison = {\n",
    "            'Base_model' :  [loss,acc],\n",
    "            'Resnet_model': [loss_Resnet, acc_Resnet],\n",
    "            'Inception_model': [loss_Inception, acc_Inception] \n",
    "    \n",
    "}\n",
    "MODELS = pd.DataFrame(Comparison)\n"
   ]
  },
  {
   "cell_type": "code",
   "execution_count": 55,
   "id": "c415ef22",
   "metadata": {},
   "outputs": [
    {
     "data": {
      "text/html": [
       "<div>\n",
       "<style scoped>\n",
       "    .dataframe tbody tr th:only-of-type {\n",
       "        vertical-align: middle;\n",
       "    }\n",
       "\n",
       "    .dataframe tbody tr th {\n",
       "        vertical-align: top;\n",
       "    }\n",
       "\n",
       "    .dataframe thead th {\n",
       "        text-align: right;\n",
       "    }\n",
       "</style>\n",
       "<table border=\"1\" class=\"dataframe\">\n",
       "  <thead>\n",
       "    <tr style=\"text-align: right;\">\n",
       "      <th></th>\n",
       "      <th>Base_model</th>\n",
       "      <th>Resnet_model</th>\n",
       "      <th>Inception_model</th>\n",
       "    </tr>\n",
       "  </thead>\n",
       "  <tbody>\n",
       "    <tr>\n",
       "      <th>0</th>\n",
       "      <td>0.506421</td>\n",
       "      <td>0.106421</td>\n",
       "      <td>0.083421</td>\n",
       "    </tr>\n",
       "    <tr>\n",
       "      <th>1</th>\n",
       "      <td>0.751000</td>\n",
       "      <td>0.954654</td>\n",
       "      <td>0.949875</td>\n",
       "    </tr>\n",
       "  </tbody>\n",
       "</table>\n",
       "</div>"
      ],
      "text/plain": [
       "   Base_model  Resnet_model  Inception_model\n",
       "0    0.506421      0.106421         0.083421\n",
       "1    0.751000      0.954654         0.949875"
      ]
     },
     "execution_count": 55,
     "metadata": {},
     "output_type": "execute_result"
    }
   ],
   "source": [
    "MODELS"
   ]
  },
  {
   "cell_type": "code",
   "execution_count": 48,
   "id": "d8256030",
   "metadata": {},
   "outputs": [],
   "source": []
  },
  {
   "cell_type": "code",
   "execution_count": 53,
   "id": "9ad903db",
   "metadata": {},
   "outputs": [],
   "source": []
  },
  {
   "cell_type": "code",
   "execution_count": null,
   "id": "d0e0ad5a",
   "metadata": {},
   "outputs": [],
   "source": []
  }
 ],
 "metadata": {
  "kernelspec": {
   "display_name": "Python 3.11.5 (myenv)",
   "language": "python",
   "name": "myenv"
  },
  "language_info": {
   "codemirror_mode": {
    "name": "ipython",
    "version": 3
   },
   "file_extension": ".py",
   "mimetype": "text/x-python",
   "name": "python",
   "nbconvert_exporter": "python",
   "pygments_lexer": "ipython3",
   "version": "3.8.8"
  }
 },
 "nbformat": 4,
 "nbformat_minor": 5
}
